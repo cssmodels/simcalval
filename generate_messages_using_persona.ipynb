{
 "cells": [
  {
   "cell_type": "code",
   "execution_count": 11,
   "metadata": {},
   "outputs": [],
   "source": [
    "import pandas as pd \n",
    "import json\n",
    "from openai import OpenAI"
   ]
  },
  {
   "cell_type": "code",
   "execution_count": 12,
   "metadata": {},
   "outputs": [],
   "source": [
    "df = pd.read_pickle('personas_and_tweets.df.pkl')"
   ]
  },
  {
   "cell_type": "markdown",
   "metadata": {},
   "source": [
    "## Add 2-shot to the persona"
   ]
  },
  {
   "cell_type": "code",
   "execution_count": 19,
   "metadata": {},
   "outputs": [
    {
     "name": "stderr",
     "output_type": "stream",
     "text": [
      "/var/folders/72/yhvs2cms3j9cxd1ln67f720h0000gn/T/ipykernel_29111/769202012.py:15: DeprecationWarning: DataFrameGroupBy.apply operated on the grouping columns. This behavior is deprecated, and in a future version of pandas the grouping columns will be excluded from the operation. Either pass `include_groups=False` to exclude the groupings or explicitly select the grouping columns after groupby to silence this warning.\n",
      "  updated_df = df.groupby('username').apply(update_persona)\n"
     ]
    }
   ],
   "source": [
    "import random \n",
    "\n",
    "# Here is the updated dataframe with two randomly selected messages added to each user's persona,\n",
    "# Function to update the persona with two random messages\n",
    "def update_persona(group):\n",
    "    messages = group['message'].tolist()\n",
    "    if len(messages) >= 2:\n",
    "        selected_messages = random.sample(messages, 2)\n",
    "    else:\n",
    "        selected_messages = messages\n",
    "    examples_text = \" Examples messages: '\" + \"'. '\".join(selected_messages) + \"'\"\n",
    "    group['personawithexamples'] = group['persona'].apply(lambda p: p + examples_text)\n",
    "    return group\n",
    "\n",
    "# Apply the function for each username\n",
    "updated_df = df.groupby('username').apply(update_persona)\n"
   ]
  },
  {
   "cell_type": "code",
   "execution_count": 21,
   "metadata": {},
   "outputs": [],
   "source": [
    "updated_df.to_pickle('personas_and_tweets.df.pkl')"
   ]
  },
  {
   "cell_type": "markdown",
   "metadata": {},
   "source": [
    "## Generate messages using persona + 2-shot"
   ]
  },
  {
   "cell_type": "code",
   "execution_count": null,
   "metadata": {},
   "outputs": [],
   "source": [
    "# Generate responses and store them in the column 'baseline'\n",
    "\n",
    "openaiclient = OpenAI(api_key=\"xxx\")\n",
    "MODEL = 'gpt-4o'\n",
    "\n",
    "def generate_tweet(persona,reply_to_message):\n",
    "\n",
    "    prompt = f\"Write a social media message in the style of the persona described below, in reply to the following message: '{reply_to_message}' \\n\\n Your persona: {persona}\"\n",
    "    \n",
    "    messages = [{\"role\": \"user\", \"content\": f\"{prompt}\"}]\n",
    "\n",
    "    print(messages)\n",
    "\n",
    "    response = openaiclient.chat.completions.create(\n",
    "        model=MODEL,\n",
    "        temperature=0.1,\n",
    "        messages=messages\n",
    "    )\n",
    "\n",
    "    result = ''.join(choice.message.content for choice in response.choices)\n",
    "    return result \n",
    "\n",
    "\n",
    "df = pd.read_pickle('personas_and_tweets_baselinewithexamples.df.pkl')\n",
    "\n",
    "# Ensure 'baseline' column exists\n",
    "df['baseline'] = df.get('baseline', pd.NA)\n",
    "i=0\n",
    "# Loop over the dataframe\n",
    "for index, row in df.iterrows():\n",
    "    \n",
    "    if row['training'] == 0 and pd.isna(row['baseline']):  # Skip already processed rows\n",
    "        try:\n",
    "            i+=1\n",
    "            print(row['username'])            \n",
    "            df.at[index, 'baseline'] = generate_tweet(row['persona'], row['reply_to'])\n",
    "        except Exception as e:\n",
    "            print(f\"Error processing row {index}: {e}\")\n",
    "            continue\n",
    "\n",
    "        # Save progress every 10 rows\n",
    "        if i % 10 == 0:\n",
    "            df.to_pickle('personas_and_tweets_baselinewithexamples.df.pkl')\n",
    "            print(f\"Progress saved at row {index}\")\n",
    "\n",
    "            # print(len(df.loc[(df['training']==0)&(~df['baseline'].isna())])/len(df.loc[df['training']==0]))\n",
    "\n",
    "    else:\n",
    "        print('skip',end=\", \")\n",
    "\n",
    "# Final save after loop completion\n",
    "df.to_pickle('personas_and_tweets_baselinewithexamples.df.pkl')\n",
    "print(\"Processing complete and data saved.\")\n",
    "\n",
    "# generate_tweet(df.at[31000,'persona'],df.at[31000,'reply_to'])\n"
   ]
  },
  {
   "cell_type": "markdown",
   "metadata": {},
   "source": [
    "## Generate messages using persona "
   ]
  },
  {
   "cell_type": "code",
   "execution_count": null,
   "metadata": {},
   "outputs": [],
   "source": [
    "# Generate responses and store them in the column 'baseline'\n",
    "\n",
    "openaiclient = OpenAI(api_key=\"xxx\")\n",
    "MODEL = 'gpt-4o'\n",
    "\n",
    "def generate_tweet(persona,reply_to_message):\n",
    "\n",
    "    prompt = f\"Write a social media message in the style of the persona described below, in reply to the following message: '{reply_to_message}' \\n\\n Your persona: {persona}\"\n",
    "    \n",
    "    messages = [{\"role\": \"user\", \"content\": f\"{prompt}\"}]\n",
    "\n",
    "    print(messages)\n",
    "\n",
    "    response = openaiclient.chat.completions.create(\n",
    "        model=MODEL,\n",
    "        temperature=0.1,\n",
    "        messages=messages\n",
    "    )\n",
    "\n",
    "    result = ''.join(choice.message.content for choice in response.choices)\n",
    "    return result \n",
    "\n",
    "\n",
    "df = pd.read_pickle('personas_and_tweets.df.pkl')\n",
    "\n",
    "# Ensure 'baseline' column exists\n",
    "df['baselinewithexamples'] = df.get('baselinewithexamples', pd.NA)\n",
    "i=0\n",
    "# Loop over the dataframe\n",
    "for index, row in df.iterrows():\n",
    "    \n",
    "    if row['training'] == 0 and pd.isna(row['baselinewithexamples']):  # Skip already processed rows\n",
    "        try:\n",
    "            i+=1\n",
    "            print(row['username'])            \n",
    "            df.at[index, 'baselinewithexamples'] = generate_tweet(row['personawithexamples'], row['reply_to'])\n",
    "        except Exception as e:\n",
    "            print(f\"Error processing row {index}: {e}\")\n",
    "            continue\n",
    "\n",
    "        # Save progress every 10 rows\n",
    "        if i % 10 == 0:\n",
    "            df.to_pickle('personas_and_tweets.df.pkl')\n",
    "            print(f\"Progress saved at row {index}\")\n",
    "\n",
    "            # print(len(df.loc[(df['training']==0)&(~df['baseline'].isna())])/len(df.loc[df['training']==0]))\n",
    "\n",
    "    else:\n",
    "        print('skip',end=\", \")\n",
    "\n",
    "# Final save after loop completion\n",
    "df.to_pickle('personas_and_tweets.df.pkl')\n",
    "print(\"Processing complete and data saved.\")\n",
    "\n",
    "# generate_tweet(df.at[31000,'persona'],df.at[31000,'reply_to'])\n"
   ]
  },
  {
   "cell_type": "code",
   "execution_count": null,
   "metadata": {},
   "outputs": [],
   "source": []
  }
 ],
 "metadata": {
  "kernelspec": {
   "display_name": "Python 3",
   "language": "python",
   "name": "python3"
  },
  "language_info": {
   "codemirror_mode": {
    "name": "ipython",
    "version": 3
   },
   "file_extension": ".py",
   "mimetype": "text/x-python",
   "name": "python",
   "nbconvert_exporter": "python",
   "pygments_lexer": "ipython3",
   "version": "3.13.0"
  }
 },
 "nbformat": 4,
 "nbformat_minor": 2
}
